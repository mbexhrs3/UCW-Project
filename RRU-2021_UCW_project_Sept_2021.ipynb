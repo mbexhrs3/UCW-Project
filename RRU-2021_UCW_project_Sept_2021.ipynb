{
  "nbformat": 4,
  "nbformat_minor": 5,
  "metadata": {
    "kernelspec": {
      "display_name": "Python 3",
      "language": "python",
      "name": "python3"
    },
    "language_info": {
      "codemirror_mode": {
        "name": "ipython",
        "version": 3
      },
      "file_extension": ".py",
      "mimetype": "text/x-python",
      "name": "python",
      "nbconvert_exporter": "python",
      "pygments_lexer": "ipython3",
      "version": "3.8.10"
    },
    "colab": {
      "name": "RRU-2021_UCW_project_Sept_2021.ipynb",
      "provenance": []
    },
    "accelerator": "GPU"
  },
  "cells": [
    {
      "cell_type": "markdown",
      "metadata": {
        "id": "fcabc162"
      },
      "source": [
        "## Introduction:\n",
        "This code is the part of UCW (Understanding Climate and Weather at local scale) project for BSc Environmental Science Program (ENSC304) at the Royal Roads University, Victoria, British Columbia, Canada. As a lecturer of the course, I have developed this code to analyze climate data and understand how the climate variables are evolving over time across British Columbia. The overall objective of this project is to quantify the amount of changes in temperature and rainfall at local level relative to the continental (i.e., North America) and/or global change. "
      ],
      "id": "fcabc162"
    },
    {
      "cell_type": "markdown",
      "metadata": {
        "id": "0dc998cf"
      },
      "source": [
        "## Import Libraries"
      ],
      "id": "0dc998cf"
    },
    {
      "cell_type": "code",
      "metadata": {
        "id": "21501e8d"
      },
      "source": [
        "import pandas as pd\n",
        "import numpy as np\n",
        "import matplotlib.pyplot as plt\n",
        "import matplotlib.dates as mdates"
      ],
      "id": "21501e8d",
      "execution_count": 1,
      "outputs": []
    },
    {
      "cell_type": "markdown",
      "metadata": {
        "id": "97900fcb"
      },
      "source": [
        "#### **Load Dataset**\n",
        "1) load data from GitHub\n",
        "2) load data from local compouter"
      ],
      "id": "97900fcb"
    },
    {
      "cell_type": "code",
      "metadata": {
        "colab": {
          "resources": {
            "http://localhost:8080/nbextensions/google.colab/files.js": {
              "data": "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",
              "ok": true,
              "headers": [
                [
                  "content-type",
                  "application/javascript"
                ]
              ],
              "status": 200,
              "status_text": "OK"
            }
          },
          "base_uri": "https://localhost:8080/",
          "height": 100
        },
        "id": "90b075fa",
        "outputId": "746a9c73-2fb0-4430-dc61-d8cc411b6ab3"
      },
      "source": [
        "#1)load data from GitHub:\n",
        "url = 'https://raw.githubusercontent.com/mbexhrs3/UCW-Project/master/Vancouver_International_Airport_for_Python.csv'\n",
        "data = pd.read_csv(url)\n",
        "uploaded = files.upload()\n"
      ],
      "id": "90b075fa",
      "execution_count": 7,
      "outputs": [
        {
          "output_type": "display_data",
          "data": {
            "text/html": [
              "\n",
              "     <input type=\"file\" id=\"files-f0c51500-f776-467a-850d-57fe9241e75b\" name=\"files[]\" multiple disabled\n",
              "        style=\"border:none\" />\n",
              "     <output id=\"result-f0c51500-f776-467a-850d-57fe9241e75b\">\n",
              "      Upload widget is only available when the cell has been executed in the\n",
              "      current browser session. Please rerun this cell to enable.\n",
              "      </output>\n",
              "      <script src=\"/nbextensions/google.colab/files.js\"></script> "
            ],
            "text/plain": [
              "<IPython.core.display.HTML object>"
            ]
          },
          "metadata": {}
        },
        {
          "output_type": "stream",
          "name": "stdout",
          "text": [
            "Saving Vancouver_International_Airport_for_Python.csv to Vancouver_International_Airport_for_Python.csv\n"
          ]
        }
      ]
    },
    {
      "cell_type": "code",
      "metadata": {
        "id": "6ajmcKJ8d1Nr"
      },
      "source": [
        "#2) load data from local computer:\n",
        "# from google.colab import files\n"
      ],
      "id": "6ajmcKJ8d1Nr",
      "execution_count": 6,
      "outputs": []
    },
    {
      "cell_type": "code",
      "metadata": {
        "id": "FjVoppAag6lg"
      },
      "source": [
        "#load data from local computer\n",
        "# import io\n",
        "# data = pd.read_csv(io.BytesIO(uploaded['Vancouver_International_Airport_for_Python.csv']))"
      ],
      "id": "FjVoppAag6lg",
      "execution_count": 10,
      "outputs": []
    },
    {
      "cell_type": "markdown",
      "metadata": {
        "id": "d750f79d"
      },
      "source": [
        "#### **Quick Review of Data Quality**"
      ],
      "id": "d750f79d"
    },
    {
      "cell_type": "code",
      "metadata": {
        "colab": {
          "base_uri": "https://localhost:8080/",
          "height": 400
        },
        "id": "d47e0f1f",
        "outputId": "9b7c7c0c-7500-49c0-bbbe-0f8e8ea0d894"
      },
      "source": [
        "data.head()"
      ],
      "id": "d47e0f1f",
      "execution_count": 4,
      "outputs": [
        {
          "output_type": "execute_result",
          "data": {
            "text/html": [
              "<div>\n",
              "<style scoped>\n",
              "    .dataframe tbody tr th:only-of-type {\n",
              "        vertical-align: middle;\n",
              "    }\n",
              "\n",
              "    .dataframe tbody tr th {\n",
              "        vertical-align: top;\n",
              "    }\n",
              "\n",
              "    .dataframe thead th {\n",
              "        text-align: right;\n",
              "    }\n",
              "</style>\n",
              "<table border=\"1\" class=\"dataframe\">\n",
              "  <thead>\n",
              "    <tr style=\"text-align: right;\">\n",
              "      <th></th>\n",
              "      <th>Longitude (x)</th>\n",
              "      <th>Latitude (y)</th>\n",
              "      <th>Station Name</th>\n",
              "      <th>Climate ID</th>\n",
              "      <th>Date/Time</th>\n",
              "      <th>Year</th>\n",
              "      <th>Month</th>\n",
              "      <th>Mean Max Temp (°C)</th>\n",
              "      <th>Mean Max Temp Flag</th>\n",
              "      <th>Mean Min Temp (°C)</th>\n",
              "      <th>Mean Min Temp Flag</th>\n",
              "      <th>Mean Temp (°C)</th>\n",
              "      <th>Mean Temp Flag</th>\n",
              "      <th>Extr Max Temp (°C)</th>\n",
              "      <th>Extr Max Temp Flag</th>\n",
              "      <th>Extr Min Temp (°C)</th>\n",
              "      <th>Extr Min Temp Flag</th>\n",
              "      <th>Total Rain (mm)</th>\n",
              "      <th>Total Rain Flag</th>\n",
              "      <th>Total Snow (cm)</th>\n",
              "      <th>Total Snow Flag</th>\n",
              "      <th>Total Precip (mm)</th>\n",
              "      <th>Total Precip Flag</th>\n",
              "      <th>Snow Grnd Last Day (cm)</th>\n",
              "      <th>Snow Grnd Last Day Flag</th>\n",
              "      <th>Dir of Max Gust (10's deg)</th>\n",
              "      <th>Dir of Max Gust Flag</th>\n",
              "      <th>Spd of Max Gust (km/h)</th>\n",
              "      <th>Spd of Max Gust Flag</th>\n",
              "    </tr>\n",
              "  </thead>\n",
              "  <tbody>\n",
              "    <tr>\n",
              "      <th>0</th>\n",
              "      <td>-123.18</td>\n",
              "      <td>49.2</td>\n",
              "      <td>VANCOUVER INT'L A</td>\n",
              "      <td>1108447</td>\n",
              "      <td>Jan-37</td>\n",
              "      <td>1937</td>\n",
              "      <td>1</td>\n",
              "      <td>0.6</td>\n",
              "      <td>NaN</td>\n",
              "      <td>-8.1</td>\n",
              "      <td>NaN</td>\n",
              "      <td>-3.8</td>\n",
              "      <td>NaN</td>\n",
              "      <td>6.1</td>\n",
              "      <td>NaN</td>\n",
              "      <td>-16.1</td>\n",
              "      <td>NaN</td>\n",
              "      <td>12.4</td>\n",
              "      <td>NaN</td>\n",
              "      <td>NaN</td>\n",
              "      <td>M</td>\n",
              "      <td>NaN</td>\n",
              "      <td>M</td>\n",
              "      <td>NaN</td>\n",
              "      <td>NaN</td>\n",
              "      <td>NaN</td>\n",
              "      <td>NaN</td>\n",
              "      <td>NaN</td>\n",
              "      <td>NaN</td>\n",
              "    </tr>\n",
              "    <tr>\n",
              "      <th>1</th>\n",
              "      <td>-123.18</td>\n",
              "      <td>49.2</td>\n",
              "      <td>VANCOUVER INT'L A</td>\n",
              "      <td>1108447</td>\n",
              "      <td>Feb-37</td>\n",
              "      <td>1937</td>\n",
              "      <td>2</td>\n",
              "      <td>5.2</td>\n",
              "      <td>NaN</td>\n",
              "      <td>-1.3</td>\n",
              "      <td>NaN</td>\n",
              "      <td>2.0</td>\n",
              "      <td>NaN</td>\n",
              "      <td>10.0</td>\n",
              "      <td>S</td>\n",
              "      <td>-7.8</td>\n",
              "      <td>NaN</td>\n",
              "      <td>103.1</td>\n",
              "      <td>NaN</td>\n",
              "      <td>NaN</td>\n",
              "      <td>M</td>\n",
              "      <td>NaN</td>\n",
              "      <td>M</td>\n",
              "      <td>NaN</td>\n",
              "      <td>NaN</td>\n",
              "      <td>NaN</td>\n",
              "      <td>NaN</td>\n",
              "      <td>NaN</td>\n",
              "      <td>NaN</td>\n",
              "    </tr>\n",
              "    <tr>\n",
              "      <th>2</th>\n",
              "      <td>-123.18</td>\n",
              "      <td>49.2</td>\n",
              "      <td>VANCOUVER INT'L A</td>\n",
              "      <td>1108447</td>\n",
              "      <td>Mar-37</td>\n",
              "      <td>1937</td>\n",
              "      <td>3</td>\n",
              "      <td>11.7</td>\n",
              "      <td>NaN</td>\n",
              "      <td>2.9</td>\n",
              "      <td>NaN</td>\n",
              "      <td>7.3</td>\n",
              "      <td>NaN</td>\n",
              "      <td>17.2</td>\n",
              "      <td>NaN</td>\n",
              "      <td>-1.1</td>\n",
              "      <td>S</td>\n",
              "      <td>59.7</td>\n",
              "      <td>NaN</td>\n",
              "      <td>0.0</td>\n",
              "      <td>NaN</td>\n",
              "      <td>59.7</td>\n",
              "      <td>NaN</td>\n",
              "      <td>NaN</td>\n",
              "      <td>NaN</td>\n",
              "      <td>NaN</td>\n",
              "      <td>NaN</td>\n",
              "      <td>NaN</td>\n",
              "      <td>NaN</td>\n",
              "    </tr>\n",
              "    <tr>\n",
              "      <th>3</th>\n",
              "      <td>-123.18</td>\n",
              "      <td>49.2</td>\n",
              "      <td>VANCOUVER INT'L A</td>\n",
              "      <td>1108447</td>\n",
              "      <td>Apr-37</td>\n",
              "      <td>1937</td>\n",
              "      <td>4</td>\n",
              "      <td>11.9</td>\n",
              "      <td>NaN</td>\n",
              "      <td>4.8</td>\n",
              "      <td>NaN</td>\n",
              "      <td>8.4</td>\n",
              "      <td>NaN</td>\n",
              "      <td>16.1</td>\n",
              "      <td>NaN</td>\n",
              "      <td>1.1</td>\n",
              "      <td>NaN</td>\n",
              "      <td>114.0</td>\n",
              "      <td>NaN</td>\n",
              "      <td>0.0</td>\n",
              "      <td>NaN</td>\n",
              "      <td>114.0</td>\n",
              "      <td>NaN</td>\n",
              "      <td>NaN</td>\n",
              "      <td>NaN</td>\n",
              "      <td>NaN</td>\n",
              "      <td>NaN</td>\n",
              "      <td>NaN</td>\n",
              "      <td>NaN</td>\n",
              "    </tr>\n",
              "    <tr>\n",
              "      <th>4</th>\n",
              "      <td>-123.18</td>\n",
              "      <td>49.2</td>\n",
              "      <td>VANCOUVER INT'L A</td>\n",
              "      <td>1108447</td>\n",
              "      <td>May-37</td>\n",
              "      <td>1937</td>\n",
              "      <td>5</td>\n",
              "      <td>16.3</td>\n",
              "      <td>NaN</td>\n",
              "      <td>6.6</td>\n",
              "      <td>NaN</td>\n",
              "      <td>11.5</td>\n",
              "      <td>NaN</td>\n",
              "      <td>20.6</td>\n",
              "      <td>NaN</td>\n",
              "      <td>1.7</td>\n",
              "      <td>NaN</td>\n",
              "      <td>44.2</td>\n",
              "      <td>NaN</td>\n",
              "      <td>0.0</td>\n",
              "      <td>NaN</td>\n",
              "      <td>44.2</td>\n",
              "      <td>NaN</td>\n",
              "      <td>NaN</td>\n",
              "      <td>NaN</td>\n",
              "      <td>NaN</td>\n",
              "      <td>NaN</td>\n",
              "      <td>NaN</td>\n",
              "      <td>NaN</td>\n",
              "    </tr>\n",
              "  </tbody>\n",
              "</table>\n",
              "</div>"
            ],
            "text/plain": [
              "   Longitude (x)  Latitude (y)  ... Spd of Max Gust (km/h)  Spd of Max Gust Flag\n",
              "0        -123.18          49.2  ...                    NaN                   NaN\n",
              "1        -123.18          49.2  ...                    NaN                   NaN\n",
              "2        -123.18          49.2  ...                    NaN                   NaN\n",
              "3        -123.18          49.2  ...                    NaN                   NaN\n",
              "4        -123.18          49.2  ...                    NaN                   NaN\n",
              "\n",
              "[5 rows x 29 columns]"
            ]
          },
          "metadata": {},
          "execution_count": 4
        }
      ]
    },
    {
      "cell_type": "code",
      "metadata": {
        "colab": {
          "base_uri": "https://localhost:8080/",
          "height": 372
        },
        "id": "a8e782ec",
        "outputId": "ad68f493-cc6a-451f-fc3a-95af7501f5e1"
      },
      "source": [
        "data.describe()"
      ],
      "id": "a8e782ec",
      "execution_count": 5,
      "outputs": [
        {
          "output_type": "execute_result",
          "data": {
            "text/html": [
              "<div>\n",
              "<style scoped>\n",
              "    .dataframe tbody tr th:only-of-type {\n",
              "        vertical-align: middle;\n",
              "    }\n",
              "\n",
              "    .dataframe tbody tr th {\n",
              "        vertical-align: top;\n",
              "    }\n",
              "\n",
              "    .dataframe thead th {\n",
              "        text-align: right;\n",
              "    }\n",
              "</style>\n",
              "<table border=\"1\" class=\"dataframe\">\n",
              "  <thead>\n",
              "    <tr style=\"text-align: right;\">\n",
              "      <th></th>\n",
              "      <th>Longitude (x)</th>\n",
              "      <th>Latitude (y)</th>\n",
              "      <th>Climate ID</th>\n",
              "      <th>Year</th>\n",
              "      <th>Month</th>\n",
              "      <th>Mean Max Temp (°C)</th>\n",
              "      <th>Mean Min Temp (°C)</th>\n",
              "      <th>Mean Temp (°C)</th>\n",
              "      <th>Extr Max Temp (°C)</th>\n",
              "      <th>Extr Min Temp (°C)</th>\n",
              "      <th>Total Rain (mm)</th>\n",
              "      <th>Total Snow (cm)</th>\n",
              "      <th>Total Precip (mm)</th>\n",
              "      <th>Snow Grnd Last Day (cm)</th>\n",
              "      <th>Dir of Max Gust (10's deg)</th>\n",
              "      <th>Spd of Max Gust (km/h)</th>\n",
              "    </tr>\n",
              "  </thead>\n",
              "  <tbody>\n",
              "    <tr>\n",
              "      <th>count</th>\n",
              "      <td>9.180000e+02</td>\n",
              "      <td>9.180000e+02</td>\n",
              "      <td>918.0</td>\n",
              "      <td>918.000000</td>\n",
              "      <td>918.000000</td>\n",
              "      <td>917.000000</td>\n",
              "      <td>917.000000</td>\n",
              "      <td>917.000000</td>\n",
              "      <td>917.000000</td>\n",
              "      <td>917.000000</td>\n",
              "      <td>915.000000</td>\n",
              "      <td>912.000000</td>\n",
              "      <td>914.000000</td>\n",
              "      <td>794.000000</td>\n",
              "      <td>674.000000</td>\n",
              "      <td>674.000000</td>\n",
              "    </tr>\n",
              "    <tr>\n",
              "      <th>mean</th>\n",
              "      <td>-1.231800e+02</td>\n",
              "      <td>4.920000e+01</td>\n",
              "      <td>1108447.0</td>\n",
              "      <td>1974.751634</td>\n",
              "      <td>6.480392</td>\n",
              "      <td>13.694547</td>\n",
              "      <td>6.319193</td>\n",
              "      <td>10.030643</td>\n",
              "      <td>19.160742</td>\n",
              "      <td>1.001309</td>\n",
              "      <td>90.259235</td>\n",
              "      <td>3.799890</td>\n",
              "      <td>93.862144</td>\n",
              "      <td>0.420655</td>\n",
              "      <td>23.188427</td>\n",
              "      <td>61.519288</td>\n",
              "    </tr>\n",
              "    <tr>\n",
              "      <th>std</th>\n",
              "      <td>2.786846e-12</td>\n",
              "      <td>4.265580e-13</td>\n",
              "      <td>0.0</td>\n",
              "      <td>22.096630</td>\n",
              "      <td>3.453879</td>\n",
              "      <td>5.831934</td>\n",
              "      <td>4.756281</td>\n",
              "      <td>5.270795</td>\n",
              "      <td>6.203553</td>\n",
              "      <td>6.384922</td>\n",
              "      <td>61.951452</td>\n",
              "      <td>11.737748</td>\n",
              "      <td>64.668326</td>\n",
              "      <td>2.952653</td>\n",
              "      <td>7.390314</td>\n",
              "      <td>15.050201</td>\n",
              "    </tr>\n",
              "    <tr>\n",
              "      <th>min</th>\n",
              "      <td>-1.231800e+02</td>\n",
              "      <td>4.920000e+01</td>\n",
              "      <td>1108447.0</td>\n",
              "      <td>1937.000000</td>\n",
              "      <td>1.000000</td>\n",
              "      <td>-2.900000</td>\n",
              "      <td>-9.700000</td>\n",
              "      <td>-6.300000</td>\n",
              "      <td>6.100000</td>\n",
              "      <td>-17.800000</td>\n",
              "      <td>0.000000</td>\n",
              "      <td>0.000000</td>\n",
              "      <td>0.000000</td>\n",
              "      <td>0.000000</td>\n",
              "      <td>6.000000</td>\n",
              "      <td>33.000000</td>\n",
              "    </tr>\n",
              "    <tr>\n",
              "      <th>25%</th>\n",
              "      <td>-1.231800e+02</td>\n",
              "      <td>4.920000e+01</td>\n",
              "      <td>1108447.0</td>\n",
              "      <td>1956.000000</td>\n",
              "      <td>3.000000</td>\n",
              "      <td>8.500000</td>\n",
              "      <td>2.300000</td>\n",
              "      <td>5.400000</td>\n",
              "      <td>13.400000</td>\n",
              "      <td>-3.400000</td>\n",
              "      <td>42.900000</td>\n",
              "      <td>0.000000</td>\n",
              "      <td>43.200000</td>\n",
              "      <td>0.000000</td>\n",
              "      <td>15.000000</td>\n",
              "      <td>51.000000</td>\n",
              "    </tr>\n",
              "    <tr>\n",
              "      <th>50%</th>\n",
              "      <td>-1.231800e+02</td>\n",
              "      <td>4.920000e+01</td>\n",
              "      <td>1108447.0</td>\n",
              "      <td>1975.000000</td>\n",
              "      <td>6.000000</td>\n",
              "      <td>13.200000</td>\n",
              "      <td>6.000000</td>\n",
              "      <td>9.600000</td>\n",
              "      <td>18.900000</td>\n",
              "      <td>0.800000</td>\n",
              "      <td>76.200000</td>\n",
              "      <td>0.000000</td>\n",
              "      <td>79.800000</td>\n",
              "      <td>0.000000</td>\n",
              "      <td>27.000000</td>\n",
              "      <td>59.000000</td>\n",
              "    </tr>\n",
              "    <tr>\n",
              "      <th>75%</th>\n",
              "      <td>-1.231800e+02</td>\n",
              "      <td>4.920000e+01</td>\n",
              "      <td>1108447.0</td>\n",
              "      <td>1994.000000</td>\n",
              "      <td>9.000000</td>\n",
              "      <td>19.000000</td>\n",
              "      <td>10.700000</td>\n",
              "      <td>14.900000</td>\n",
              "      <td>24.900000</td>\n",
              "      <td>6.700000</td>\n",
              "      <td>126.300000</td>\n",
              "      <td>0.000000</td>\n",
              "      <td>133.600000</td>\n",
              "      <td>0.000000</td>\n",
              "      <td>29.000000</td>\n",
              "      <td>70.000000</td>\n",
              "    </tr>\n",
              "    <tr>\n",
              "      <th>max</th>\n",
              "      <td>-1.231800e+02</td>\n",
              "      <td>4.920000e+01</td>\n",
              "      <td>1108447.0</td>\n",
              "      <td>2013.000000</td>\n",
              "      <td>12.000000</td>\n",
              "      <td>25.600000</td>\n",
              "      <td>15.600000</td>\n",
              "      <td>20.600000</td>\n",
              "      <td>34.400000</td>\n",
              "      <td>13.200000</td>\n",
              "      <td>350.800000</td>\n",
              "      <td>121.900000</td>\n",
              "      <td>350.800000</td>\n",
              "      <td>48.000000</td>\n",
              "      <td>32.000000</td>\n",
              "      <td>129.000000</td>\n",
              "    </tr>\n",
              "  </tbody>\n",
              "</table>\n",
              "</div>"
            ],
            "text/plain": [
              "       Longitude (x)  ...  Spd of Max Gust (km/h)\n",
              "count   9.180000e+02  ...              674.000000\n",
              "mean   -1.231800e+02  ...               61.519288\n",
              "std     2.786846e-12  ...               15.050201\n",
              "min    -1.231800e+02  ...               33.000000\n",
              "25%    -1.231800e+02  ...               51.000000\n",
              "50%    -1.231800e+02  ...               59.000000\n",
              "75%    -1.231800e+02  ...               70.000000\n",
              "max    -1.231800e+02  ...              129.000000\n",
              "\n",
              "[8 rows x 16 columns]"
            ]
          },
          "metadata": {},
          "execution_count": 5
        }
      ]
    },
    {
      "cell_type": "code",
      "metadata": {
        "id": "974d3b18"
      },
      "source": [
        "data.isnull().sum() #checking missing values"
      ],
      "id": "974d3b18",
      "execution_count": null,
      "outputs": []
    },
    {
      "cell_type": "markdown",
      "metadata": {
        "id": "f0c87d3f"
      },
      "source": [
        "#### **Select Features**"
      ],
      "id": "f0c87d3f"
    },
    {
      "cell_type": "code",
      "metadata": {
        "id": "f6c18291"
      },
      "source": [
        "features = ['Longitude (x)', 'Latitude (y)', 'Year','Month','Mean Temp (°C)','Total Rain (mm)']"
      ],
      "id": "f6c18291",
      "execution_count": null,
      "outputs": []
    },
    {
      "cell_type": "code",
      "metadata": {
        "id": "047325ed"
      },
      "source": [
        "df = data[features]"
      ],
      "id": "047325ed",
      "execution_count": null,
      "outputs": []
    },
    {
      "cell_type": "code",
      "metadata": {
        "id": "802e0e26"
      },
      "source": [
        "df.head()"
      ],
      "id": "802e0e26",
      "execution_count": null,
      "outputs": []
    },
    {
      "cell_type": "code",
      "metadata": {
        "id": "784b2b00"
      },
      "source": [
        "df.rename(columns={'Longitude (x)':'lon', 'Latitude (y)':'lat', 'Mean Temp (°C)':'Mean_Temp','Total Rain (mm)':'Total_Rain'}, inplace=True)"
      ],
      "id": "784b2b00",
      "execution_count": null,
      "outputs": []
    },
    {
      "cell_type": "code",
      "metadata": {
        "id": "5824bc7f"
      },
      "source": [
        "df.head()"
      ],
      "id": "5824bc7f",
      "execution_count": null,
      "outputs": []
    },
    {
      "cell_type": "code",
      "metadata": {
        "id": "6260ceba"
      },
      "source": [
        "df.isnull().sum()"
      ],
      "id": "6260ceba",
      "execution_count": null,
      "outputs": []
    },
    {
      "cell_type": "markdown",
      "metadata": {
        "id": "a7300d73"
      },
      "source": [
        "#### **Filling Missing Values**"
      ],
      "id": "a7300d73"
    },
    {
      "cell_type": "code",
      "metadata": {
        "id": "6906470b"
      },
      "source": [
        "df['Mean_Temp'].median()"
      ],
      "id": "6906470b",
      "execution_count": null,
      "outputs": []
    },
    {
      "cell_type": "code",
      "metadata": {
        "id": "a0c510e0"
      },
      "source": [
        "df['Total_Rain'].median()"
      ],
      "id": "a0c510e0",
      "execution_count": null,
      "outputs": []
    },
    {
      "cell_type": "code",
      "metadata": {
        "id": "14eb7a28"
      },
      "source": [
        "df['Total_Rain'].fillna(df['Total_Rain'].median(),inplace=True)"
      ],
      "id": "14eb7a28",
      "execution_count": null,
      "outputs": []
    },
    {
      "cell_type": "code",
      "metadata": {
        "id": "2f17cbd4"
      },
      "source": [
        "df['Mean_Temp'].fillna(df['Mean_Temp'].median(),inplace=True)"
      ],
      "id": "2f17cbd4",
      "execution_count": null,
      "outputs": []
    },
    {
      "cell_type": "code",
      "metadata": {
        "id": "720feff9"
      },
      "source": [
        "df.isnull().sum()"
      ],
      "id": "720feff9",
      "execution_count": null,
      "outputs": []
    },
    {
      "cell_type": "code",
      "metadata": {
        "id": "b42a642d"
      },
      "source": [
        "df.head()"
      ],
      "id": "b42a642d",
      "execution_count": null,
      "outputs": []
    },
    {
      "cell_type": "code",
      "metadata": {
        "id": "70acc25a"
      },
      "source": [
        "df.Year"
      ],
      "id": "70acc25a",
      "execution_count": null,
      "outputs": []
    },
    {
      "cell_type": "code",
      "metadata": {
        "id": "6f4bcd63"
      },
      "source": [
        "2013-1937+1 #Number of years data"
      ],
      "id": "6f4bcd63",
      "execution_count": null,
      "outputs": []
    },
    {
      "cell_type": "code",
      "metadata": {
        "id": "6bab18bd"
      },
      "source": [
        "df[df['Year']==2012] # A full-year data"
      ],
      "id": "6bab18bd",
      "execution_count": null,
      "outputs": []
    },
    {
      "cell_type": "code",
      "metadata": {
        "id": "bf2b553e"
      },
      "source": [
        "df[df['Year']==2013] # 2013 does not have full-year data"
      ],
      "id": "bf2b553e",
      "execution_count": null,
      "outputs": []
    },
    {
      "cell_type": "code",
      "metadata": {
        "id": "c7689720"
      },
      "source": [
        "df = df.iloc[:912] # remove incomplete data i.e. 2013 has only 6-months data"
      ],
      "id": "c7689720",
      "execution_count": null,
      "outputs": []
    },
    {
      "cell_type": "code",
      "metadata": {
        "id": "7dfe04e2"
      },
      "source": [
        "df.Year"
      ],
      "id": "7dfe04e2",
      "execution_count": null,
      "outputs": []
    },
    {
      "cell_type": "code",
      "metadata": {
        "id": "e4300548"
      },
      "source": [
        "df.head()"
      ],
      "id": "e4300548",
      "execution_count": null,
      "outputs": []
    },
    {
      "cell_type": "code",
      "metadata": {
        "id": "192b3c43"
      },
      "source": [
        "#convert pandas date objects to python date objects. \n",
        "#This conversion is needed because of matplotlib internal date conversion functions\n",
        "dates = pd.date_range(start='1937-01', end='2012-12',freq='MS') #MS-month start"
      ],
      "id": "192b3c43",
      "execution_count": null,
      "outputs": []
    },
    {
      "cell_type": "code",
      "metadata": {
        "id": "2bbd209e"
      },
      "source": [
        "dates"
      ],
      "id": "2bbd209e",
      "execution_count": null,
      "outputs": []
    },
    {
      "cell_type": "code",
      "metadata": {
        "id": "dc99bc0a"
      },
      "source": [
        "df['datetime'] = [pd.to_datetime(date, format='%y%m').date() for date in dates]"
      ],
      "id": "dc99bc0a",
      "execution_count": null,
      "outputs": []
    },
    {
      "cell_type": "code",
      "metadata": {
        "id": "609eb678"
      },
      "source": [
        "df.head()"
      ],
      "id": "609eb678",
      "execution_count": null,
      "outputs": []
    },
    {
      "cell_type": "code",
      "metadata": {
        "id": "b7c7b947"
      },
      "source": [
        "df.tail()"
      ],
      "id": "b7c7b947",
      "execution_count": null,
      "outputs": []
    },
    {
      "cell_type": "markdown",
      "metadata": {
        "id": "da538887"
      },
      "source": [
        "## Data Visualizations"
      ],
      "id": "da538887"
    },
    {
      "cell_type": "code",
      "metadata": {
        "id": "26bbe862"
      },
      "source": [
        "fig = plt.figure(figsize=(15,4))\n",
        "ax = fig.add_subplot(111)\n",
        "ax.plot(df['datetime'],df['Mean_Temp'],marker='.',markersize=5,color='b',linestyle='None')\n",
        "\n",
        "loc = mdates.YearLocator(5)\n",
        "ax.xaxis.set_major_locator(loc)\n",
        "fmt = mdates.DateFormatter('%Y')\n",
        "ax.xaxis.set_major_formatter(fmt)\n",
        "\n",
        "plt.xlabel('Year',fontsize=14)\n",
        "plt.ylabel('Mean Temperature ($^o$C)',fontsize=14)\n",
        "plt.title('Quick View: Temperature at Vancouver Internatinal Airport',fontsize=18)\n",
        "plt.axis('tight')\n",
        "plt.show()"
      ],
      "id": "26bbe862",
      "execution_count": null,
      "outputs": []
    },
    {
      "cell_type": "code",
      "metadata": {
        "id": "febbee62"
      },
      "source": [
        "x = np.arange(912)\n",
        "fig = plt.figure(figsize=(15,4))\n",
        "ax = fig.add_subplot(111)\n",
        "ax.plot(df['datetime'],df['Total_Rain'],marker='.',markersize=5,color='b',linestyle='None')\n",
        "\n",
        "loc = mdates.YearLocator(5)\n",
        "ax.xaxis.set_major_locator(loc)\n",
        "fmt = mdates.DateFormatter('%Y')\n",
        "ax.xaxis.set_major_formatter(fmt)\n",
        "ax.set_ylim([0,350])\n",
        "\n",
        "plt.xlabel('Year',fontsize=14)\n",
        "plt.ylabel('Rainfall (mm)',fontsize=14)\n",
        "plt.title('Quick View: Rainfall at Vancouver Internatinal Airport',fontsize=18)\n",
        "\n",
        "plt.show()"
      ],
      "id": "febbee62",
      "execution_count": null,
      "outputs": []
    },
    {
      "cell_type": "markdown",
      "metadata": {
        "id": "8f96996c"
      },
      "source": [
        "# Plot Annual and Monthly Profiles:"
      ],
      "id": "8f96996c"
    },
    {
      "cell_type": "code",
      "metadata": {
        "id": "8c25751b"
      },
      "source": [
        "months = {\n",
        "    1:'Jan',\n",
        "    2:'Feb',\n",
        "    3:'Mar',\n",
        "    4:'Apr',\n",
        "    5:'May',\n",
        "    6:'Jun',\n",
        "    7:'Jul',\n",
        "    8:'Aug',\n",
        "    9:'Sep',\n",
        "    10:'Oct',\n",
        "    11:'Nov',\n",
        "    12:'Dec'\n",
        "    \n",
        "}\n",
        "   "
      ],
      "id": "8c25751b",
      "execution_count": null,
      "outputs": []
    },
    {
      "cell_type": "markdown",
      "metadata": {
        "id": "5f4b2079"
      },
      "source": [
        "#### **1) Temperature**"
      ],
      "id": "5f4b2079"
    },
    {
      "cell_type": "code",
      "metadata": {
        "id": "e930595c"
      },
      "source": [
        "year_val = np.linspace(1937,2012,76)\n",
        "fig,axes = plt.subplots(nrows=4, ncols=3, figsize=(12,10))\n",
        "axes = axes.flatten()\n",
        "\n",
        "for i, ax in enumerate(axes):\n",
        "    monthly_data = df[df['Month']==i+1]\n",
        "    ax.plot(year_val,monthly_data.Mean_Temp,label=months.get(i+1),color='b',linewidth=0.5)\n",
        "    window_10yrs = monthly_data['Mean_Temp'].rolling(window=10,center=True,min_periods=10).mean()\n",
        "    ax.plot(year_val,window_10yrs, color='r',label='Trend(10-yr Mean)')\n",
        "    ax.legend()\n",
        "    \n",
        "axes[0].set_ylabel('Temperature ($^o$C)')\n",
        "axes[3].set_ylabel('Temperature ($^o$C)')\n",
        "axes[6].set_ylabel('Temperature ($^o$C)')\n",
        "axes[9].set_ylabel('Temperature ($^o$C)')\n",
        "\n",
        "\n",
        "fig.suptitle('Monthly Profile: Mean Temperature',fontsize=25)\n",
        "    \n",
        "plt.show()"
      ],
      "id": "e930595c",
      "execution_count": null,
      "outputs": []
    },
    {
      "cell_type": "code",
      "metadata": {
        "id": "23d5b421"
      },
      "source": [
        "year = np.arange(2001,2013)\n",
        "fig,axes = plt.subplots(nrows=4, ncols=3, figsize=(12,10))\n",
        "axes = axes.flatten()\n",
        "\n",
        "for i, ax in enumerate(axes):\n",
        "    yearly_data = df[df['Year']==year[i]]\n",
        "    ax.plot(months.values(),yearly_data.Mean_Temp,'bo-',label=year[i])\n",
        "    ax.set_ylim([0,20])\n",
        "    ax.set_xticks(list(months.values())[1:12:3])\n",
        "    ax.legend()  \n",
        "\n",
        "axes[0].set_ylabel('Temperature ($^o$C)')\n",
        "axes[3].set_ylabel('Temperature ($^o$C)')\n",
        "axes[6].set_ylabel('Temperature ($^o$C)')\n",
        "axes[9].set_ylabel('Temperature ($^o$C)')\n",
        "\n",
        "fig.suptitle('Annual Profile: Mean Temperature',fontsize=25)\n",
        "    \n",
        "plt.show()"
      ],
      "id": "23d5b421",
      "execution_count": null,
      "outputs": []
    },
    {
      "cell_type": "markdown",
      "metadata": {
        "id": "953efdac"
      },
      "source": [
        "#### **2) Total Rainfall**"
      ],
      "id": "953efdac"
    },
    {
      "cell_type": "code",
      "metadata": {
        "id": "a785b28f"
      },
      "source": [
        "year_val = np.linspace(1937,2012,76)\n",
        "fig,axes = plt.subplots(nrows=4, ncols=3, figsize=(12,10))\n",
        "axes = axes.flatten()\n",
        "\n",
        "for i, ax in enumerate(axes):\n",
        "    monthly_data = df[df['Month']==i+1]\n",
        "    ax.bar(year_val,monthly_data.Total_Rain,label=months.get(i+1),color='m')\n",
        "    window_10yrs = monthly_data['Total_Rain'].rolling(window=10,center=True,min_periods=10).mean()\n",
        "    ax.plot(year_val,window_10yrs, color='b',label='Trend(10-yr Mean)')\n",
        "    ax.legend()\n",
        "    \n",
        "axes[0].set_ylabel('Rainfall (mm)')\n",
        "axes[3].set_ylabel('Rainfall (mm)')\n",
        "axes[6].set_ylabel('Rainfall (mm)')\n",
        "axes[9].set_ylabel('Rainfall (mm)')\n",
        "\n",
        "fig.suptitle('Monthly Profile: Total Rainfall',fontsize=25)\n",
        "    \n",
        "plt.show()\n"
      ],
      "id": "a785b28f",
      "execution_count": null,
      "outputs": []
    },
    {
      "cell_type": "code",
      "metadata": {
        "id": "2948fe8b"
      },
      "source": [
        "year = np.arange(2001,2013)\n",
        "fig,axes = plt.subplots(nrows=4, ncols=3, figsize=(12,10))\n",
        "axes = axes.flatten()\n",
        "\n",
        "for i, ax in enumerate(axes):\n",
        "    yearly_data = df[df['Year']==year[i]]\n",
        "    ax.bar(months.values(),yearly_data.Total_Rain,label=year[i],color='m')\n",
        "    ax.set_xticks(list(months.values())[1:12:3])\n",
        "    ax.legend() \n",
        "    \n",
        "axes[0].set_ylabel('Rainfall (mm)')\n",
        "axes[3].set_ylabel('Rainfall (mm)')\n",
        "axes[6].set_ylabel('Rainfall (mm)')\n",
        "axes[9].set_ylabel('Rainfall (mm)')\n",
        "\n",
        "fig.suptitle('Annual Profile: Total Rainfall',fontsize=25)\n",
        "    \n",
        "plt.show()"
      ],
      "id": "2948fe8b",
      "execution_count": null,
      "outputs": []
    },
    {
      "cell_type": "markdown",
      "metadata": {
        "id": "b7096d58"
      },
      "source": [
        "## Monthly Mean:"
      ],
      "id": "b7096d58"
    },
    {
      "cell_type": "code",
      "metadata": {
        "id": "0d05c2b9"
      },
      "source": [
        "Monthly_Mean = np.round(df.groupby('Month').mean(),1)\n",
        "Monthly_Mean"
      ],
      "id": "0d05c2b9",
      "execution_count": null,
      "outputs": []
    },
    {
      "cell_type": "code",
      "metadata": {
        "id": "f42af0e3"
      },
      "source": [
        "fig = plt.figure(figsize=(8,6),dpi=100)\n",
        "ax = fig.add_subplot(111)\n",
        "ax.plot(months.values(), Monthly_Mean.Mean_Temp,'bo-')\n",
        "plt.ylabel('Temperature ($^{o}$C)',fontsize=18)\n",
        "plt.title('Mean Monthly Temperature', fontsize=22)\n",
        "plt.show()"
      ],
      "id": "f42af0e3",
      "execution_count": null,
      "outputs": []
    },
    {
      "cell_type": "code",
      "metadata": {
        "id": "08e8a7f0"
      },
      "source": [
        "fig = plt.figure(figsize=(8,6),dpi=100)\n",
        "ax = fig.add_subplot(111)\n",
        "ax.bar(months.values(), Monthly_Mean.Total_Rain)\n",
        "plt.ylabel('Rainfall (mm)',fontsize=18)\n",
        "plt.title('Mean Monthly Rainfall', fontsize=22)\n",
        "plt.show()"
      ],
      "id": "08e8a7f0",
      "execution_count": null,
      "outputs": []
    },
    {
      "cell_type": "markdown",
      "metadata": {
        "id": "605c8b47"
      },
      "source": [
        "# Seasonal Mean:"
      ],
      "id": "605c8b47"
    },
    {
      "cell_type": "code",
      "metadata": {
        "id": "488e686b"
      },
      "source": [
        "#Assign month to season \n",
        "month_num_2_season = {\n",
        "    1:'DJF',\n",
        "    2:'DJF',\n",
        "    3:'MAM',\n",
        "    4:'MAM',\n",
        "    5:'MAM',\n",
        "    6:'JJA',\n",
        "    7:'JJA',\n",
        "    8:'JJA',\n",
        "    9:'SON',\n",
        "    10:'SON',\n",
        "    11:'SON',\n",
        "    12:'DJF'\n",
        "    \n",
        "}"
      ],
      "id": "488e686b",
      "execution_count": null,
      "outputs": []
    },
    {
      "cell_type": "code",
      "metadata": {
        "id": "ec72ba19"
      },
      "source": [
        "month_num_2_season"
      ],
      "id": "ec72ba19",
      "execution_count": null,
      "outputs": []
    },
    {
      "cell_type": "code",
      "metadata": {
        "id": "cb86f419"
      },
      "source": [
        "# add a new variable to the dataframe\n",
        "df['season'] = [month_num_2_season.get(i) for i in df.Month]"
      ],
      "id": "cb86f419",
      "execution_count": null,
      "outputs": []
    },
    {
      "cell_type": "code",
      "metadata": {
        "id": "e472c56d"
      },
      "source": [
        "# calculate seasonal mean\n",
        "seasonal_val = np.round(df.groupby('season').mean(),1)\n",
        "seasonal_val"
      ],
      "id": "e472c56d",
      "execution_count": null,
      "outputs": []
    },
    {
      "cell_type": "markdown",
      "metadata": {
        "id": "0a5cf2fc"
      },
      "source": [
        "## Recent Data (2003:2012)"
      ],
      "id": "0a5cf2fc"
    },
    {
      "cell_type": "code",
      "metadata": {
        "id": "a630e195"
      },
      "source": [
        "df_recent = df[792:]\n",
        "df_recent"
      ],
      "id": "a630e195",
      "execution_count": null,
      "outputs": []
    },
    {
      "cell_type": "code",
      "metadata": {
        "id": "0af6e69b"
      },
      "source": [
        "monthly_mean_recent = df_recent.groupby('Month').mean()"
      ],
      "id": "0af6e69b",
      "execution_count": null,
      "outputs": []
    },
    {
      "cell_type": "code",
      "metadata": {
        "id": "d55d1d76"
      },
      "source": [
        "monthly_mean_recent"
      ],
      "id": "d55d1d76",
      "execution_count": null,
      "outputs": []
    },
    {
      "cell_type": "code",
      "metadata": {
        "id": "f08401be"
      },
      "source": [
        "diff_mean_temp = monthly_mean_recent.Mean_Temp - Monthly_Mean.Mean_Temp"
      ],
      "id": "f08401be",
      "execution_count": null,
      "outputs": []
    },
    {
      "cell_type": "code",
      "metadata": {
        "id": "127ff095"
      },
      "source": [
        "fig = plt.figure(figsize=(8,6),dpi=100)\n",
        "ax = fig.add_subplot(111)\n",
        "ax.plot(months.values(),diff_mean_temp,'b-')\n",
        "ax.set_ylabel('Temperature Change ($^o$C)')\n",
        "ax.set_xlim([0,11])\n",
        "ax.set_ylim(-0.2,1.3)\n",
        "ax.plot([0,11],[0,0],'r--')\n",
        "plt.title('(2012-2003)$_{avg}$ - Historical', fontsize=20)\n",
        "plt.show()"
      ],
      "id": "127ff095",
      "execution_count": null,
      "outputs": []
    },
    {
      "cell_type": "code",
      "metadata": {
        "id": "95b2b1a7"
      },
      "source": [
        "diff_Total_Rainfall = monthly_mean_recent.Total_Rain - Monthly_Mean.Total_Rain"
      ],
      "id": "95b2b1a7",
      "execution_count": null,
      "outputs": []
    },
    {
      "cell_type": "code",
      "metadata": {
        "id": "30f54187"
      },
      "source": [
        "fig = plt.figure(figsize=(8,6),dpi=100)\n",
        "ax = fig.add_subplot(111)\n",
        "ax.plot(months.values(),diff_Total_Rainfall,'ob-')\n",
        "ax.set_ylabel('Rainfall Change (mm)')\n",
        "ax.set_xlim([0,11])\n",
        "ax.set_ylim(-35,35)\n",
        "ax.plot([0,11],[0,0],'r--')\n",
        "plt.title('(2012-2003)$_{avg}$ - Historical', fontsize=20)\n",
        "plt.show()"
      ],
      "id": "30f54187",
      "execution_count": null,
      "outputs": []
    },
    {
      "cell_type": "markdown",
      "metadata": {
        "id": "88e4d2a1"
      },
      "source": [
        "## Recent Seasonal Average Data"
      ],
      "id": "88e4d2a1"
    },
    {
      "cell_type": "code",
      "metadata": {
        "id": "d12db060"
      },
      "source": [
        "seasonal_recent = np.round(df_recent.groupby('season').mean(),1)\n",
        "seasonal_recent"
      ],
      "id": "d12db060",
      "execution_count": null,
      "outputs": []
    },
    {
      "cell_type": "code",
      "metadata": {
        "id": "d1a37e8a"
      },
      "source": [
        "seasons_name = ['DJF','JJA','MAM','SON']\n",
        "fig = plt.figure(figsize=(8,6),dpi=100)\n",
        "ax = fig.add_subplot(111)\n",
        "width=0.3\n",
        "ax.bar(seasons_name,seasonal_recent.Mean_Temp,label='Recent')\n",
        "ax.bar(seasons_name,seasonal_val.Mean_Temp,width,label='Historical')\n",
        "ax.legend()\n",
        "plt.show()"
      ],
      "id": "d1a37e8a",
      "execution_count": null,
      "outputs": []
    },
    {
      "cell_type": "markdown",
      "metadata": {
        "id": "67668fa0"
      },
      "source": [
        "## 30 years data (1951:1980)"
      ],
      "id": "67668fa0"
    },
    {
      "cell_type": "code",
      "metadata": {
        "id": "bd2e9981"
      },
      "source": [
        "df[df['Year']==1980] # df[168:528]"
      ],
      "id": "bd2e9981",
      "execution_count": null,
      "outputs": []
    },
    {
      "cell_type": "code",
      "metadata": {
        "id": "a1b84f8a"
      },
      "source": [
        "df_30yrs = df[168:528] # climate data from 1951-1980"
      ],
      "id": "a1b84f8a",
      "execution_count": null,
      "outputs": []
    },
    {
      "cell_type": "code",
      "metadata": {
        "id": "5e19b6c5"
      },
      "source": [
        "df_30yrs_Mean_Temp = np.round(df_30yrs.groupby('Year').mean().mean().Mean_Temp,2)\n",
        "df_30yrs_Mean_Temp"
      ],
      "id": "5e19b6c5",
      "execution_count": null,
      "outputs": []
    },
    {
      "cell_type": "code",
      "metadata": {
        "id": "2868aabd"
      },
      "source": [
        "Tdiff = df.groupby('Year').mean().Mean_Temp - df_30yrs_Mean_Temp"
      ],
      "id": "2868aabd",
      "execution_count": null,
      "outputs": []
    },
    {
      "cell_type": "code",
      "metadata": {
        "id": "64b7e5a2"
      },
      "source": [
        "fig = plt.figure(figsize=(10,5),dpi=150)\n",
        "ax = fig.add_subplot(111)\n",
        "ax.bar(year_val,Tdiff,color='b',label='Annual average change')\n",
        "ax.set_ylabel('Temperature Change ($^o$C)')\n",
        "ax.set_xlim([1935,2014])\n",
        "ax.plot(Tdiff.rolling(window=5,min_periods=5,center=True).mean(),label= '5-yr moving average change',color='r',linewidth=2)\n",
        "ax.plot([0,2014],[0,0],color='b',linewidth=1)\n",
        "ax.set_ylim([-2,2])\n",
        "\n",
        "\n",
        "plt.title('Temperature Change: Vancouver International Airport', fontsize=20)\n",
        "plt.legend()\n",
        "plt.show()"
      ],
      "id": "64b7e5a2",
      "execution_count": null,
      "outputs": []
    },
    {
      "cell_type": "code",
      "metadata": {
        "id": "8cdc6c3c"
      },
      "source": [
        ""
      ],
      "id": "8cdc6c3c",
      "execution_count": null,
      "outputs": []
    }
  ]
}